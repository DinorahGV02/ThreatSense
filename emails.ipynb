{
 "cells": [
  {
   "cell_type": "code",
   "execution_count": 1,
   "id": "385694c8",
   "metadata": {},
   "outputs": [],
   "source": [
    "#ThreatSense - email_content training\n",
    "#Neccessary packages imported for training the model and saving the results\n",
    "import pandas as pd\n",
    "from sklearn.model_selection import train_test_split\n",
    "from sklearn.feature_extraction.text import TfidfVectorizer\n",
    "from sklearn.ensemble import RandomForestClassifier\n",
    "from sklearn.metrics import accuracy_score\n",
    "import string\n",
    "import re\n",
    "import joblib "
   ]
  },
  {
   "cell_type": "code",
   "execution_count": 2,
   "id": "55f1c875",
   "metadata": {},
   "outputs": [],
   "source": [
    "# Loading the dataset to the program\n",
    "df = pd.read_csv('Phishing_Email.csv') \n",
    "\n",
    "# Cleaning the null/NA values \n",
    "df.dropna(inplace=True)\n",
    "\n",
    "# Preprocessing the email content\n",
    "def clean_text(text):\n",
    "    # Removing the punctuations \n",
    "    text = text.translate(str.maketrans('', '', string.punctuation))\n",
    "    # Converting all the characters to lowercase for consistent text analysis\n",
    "    text = text.lower()\n",
    "    # Text is splitted into words and for processing purposes(counting frequency or finding patterns)\n",
    "    words = re.findall(r'\\b\\w+\\b', text)\n",
    "    return ' '.join(words)\n",
    "\n",
    "# Applying the clean text function for the related column in the dataset\n",
    "df['Email Text'] = df['Email Text'].apply(clean_text)\n"
   ]
  },
  {
   "cell_type": "code",
   "execution_count": 3,
   "id": "121bdbca",
   "metadata": {},
   "outputs": [
    {
     "name": "stdout",
     "output_type": "stream",
     "text": [
      "Accuracy: 0.9624362758250604\n"
     ]
    }
   ],
   "source": [
    "# Data splitting for traning and testing\n",
    "X_train, X_test, y_train, y_test = train_test_split(df['Email Text'], df['Email Type'], test_size=0.2, random_state=42) #random_state to initialize the random number generator\n",
    "\n",
    "# Converting the data into numerical values for vectorization that allows ML algorithms to quantitive analysis\n",
    "vectorizer = TfidfVectorizer(max_features=5000)  \n",
    "X_train_tfidf = vectorizer.fit_transform(X_train)\n",
    "X_test_tfidf = vectorizer.transform(X_test)\n",
    "\n",
    "# Training the model using RandomForest algorithm that uses 100 decision trees\n",
    "rf_classifier = RandomForestClassifier(n_estimators=100, random_state=42)\n",
    "rf_classifier.fit(X_train_tfidf, y_train)\n",
    "\n",
    "# Checking the accuracy of the model \n",
    "y_pred = rf_classifier.predict(X_test_tfidf)\n",
    "accuracy = accuracy_score(y_test, y_pred)\n",
    "print(\"Accuracy:\", accuracy)\n"
   ]
  },
  {
   "cell_type": "code",
   "execution_count": 4,
   "id": "e0d94c8f",
   "metadata": {},
   "outputs": [
    {
     "data": {
      "text/plain": [
       "['vectorizer_email.pkl']"
      ]
     },
     "execution_count": 4,
     "metadata": {},
     "output_type": "execute_result"
    }
   ],
   "source": [
    "# Saving ML model and data transformation settings for future predictions\n",
    "joblib.dump(rf_classifier, 'rf_classifier_email.pkl')\n",
    "joblib.dump(vectorizer, 'vectorizer_email.pkl')"
   ]
  },
  {
   "cell_type": "code",
   "execution_count": null,
   "id": "248b0d6b",
   "metadata": {},
   "outputs": [],
   "source": [
    "#This is a function that allow us to test the trained model right after training\n",
    "#without integrating it to any platform\n",
    "def predict_email(input_text):\n",
    "    cleaned_text = clean_text(input_text)\n",
    "    tfidf_vector = vectorizer.transform([cleaned_text])\n",
    "    prediction = rf_classifier.predict(tfidf_vector)\n",
    "    return prediction[0]\n",
    "\n",
    "# Getting user input and predicting\n",
    "input_email = input(\"Enter the email text: \")\n",
    "prediction = predict_email(input_email)\n",
    "print(\"Prediction:\", prediction)"
   ]
  },
  {
   "cell_type": "code",
   "execution_count": null,
   "id": "ba583676",
   "metadata": {},
   "outputs": [],
   "source": []
  }
 ],
 "metadata": {
  "kernelspec": {
   "display_name": "Python 3 (ipykernel)",
   "language": "python",
   "name": "python3"
  },
  "language_info": {
   "codemirror_mode": {
    "name": "ipython",
    "version": 3
   },
   "file_extension": ".py",
   "mimetype": "text/x-python",
   "name": "python",
   "nbconvert_exporter": "python",
   "pygments_lexer": "ipython3",
   "version": "3.11.5"
  }
 },
 "nbformat": 4,
 "nbformat_minor": 5
}
