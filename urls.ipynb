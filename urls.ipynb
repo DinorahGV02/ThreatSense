{
 "cells": [
  {
   "cell_type": "code",
   "execution_count": 1,
   "id": "60c6e30e",
   "metadata": {},
   "outputs": [],
   "source": [
    "#ThreatSense - malicious_url training\n",
    "#Neccessary packages imported for training the model and saving the results\n",
    "import pandas as pd\n",
    "from sklearn.model_selection import train_test_split\n",
    "from sklearn.feature_extraction.text import TfidfVectorizer\n",
    "from sklearn.ensemble import RandomForestClassifier\n",
    "from sklearn.metrics import accuracy_score\n",
    "import re\n",
    "import joblib "
   ]
  },
  {
   "cell_type": "code",
   "execution_count": 2,
   "id": "fdc9c953",
   "metadata": {},
   "outputs": [],
   "source": [
    "# Loading the dataset to the program\n",
    "df_phish = pd.read_csv('malicious_phish.csv') \n",
    "\n",
    "# Cleaning the null/NA values\n",
    "df_phish.dropna(inplace=True)"
   ]
  },
  {
   "cell_type": "code",
   "execution_count": 3,
   "id": "0a3eea7f",
   "metadata": {},
   "outputs": [
    {
     "name": "stdout",
     "output_type": "stream",
     "text": [
      "Accuracy: 0.9539385283977918\n"
     ]
    }
   ],
   "source": [
    "# Data splitting for traning and testing\n",
    "X_train_phish, X_test_phish, y_train_phish, y_test_phish = train_test_split(df_phish['url'], df_phish['type'], test_size=0.2, random_state=42) #random_state to initialize the random number generator\n",
    "\n",
    "# Converting the data into numerical values for vectorization that allows ML algorithms to quantitive analysis\n",
    "vectorizer_phish = TfidfVectorizer(max_features=5000) \n",
    "X_train_tfidf_phish = vectorizer_phish.fit_transform(X_train_phish)\n",
    "X_test_tfidf_phish = vectorizer_phish.transform(X_test_phish)\n",
    "\n",
    "# Training the model using RandomForest algorithm that uses 100 decision trees\n",
    "rf_classifier_phish = RandomForestClassifier(n_estimators=100, random_state=42)\n",
    "rf_classifier_phish.fit(X_train_tfidf_phish, y_train_phish)\n",
    "\n",
    "# Checking the accuracy of the model\n",
    "y_pred_phish = rf_classifier_phish.predict(X_test_tfidf_phish)\n",
    "accuracy_phish = accuracy_score(y_test_phish, y_pred_phish)\n",
    "print(\"Accuracy:\", accuracy_phish)"
   ]
  },
  {
   "cell_type": "code",
   "execution_count": 4,
   "id": "986a9091",
   "metadata": {},
   "outputs": [
    {
     "data": {
      "text/plain": [
       "['vectorizer_url.pkl']"
      ]
     },
     "execution_count": 4,
     "metadata": {},
     "output_type": "execute_result"
    }
   ],
   "source": [
    "# Saving ML model and data transformation settings for future predictions\n",
    "joblib.dump(rf_classifier_phish, 'rf_classifier_url.pkl')\n",
    "joblib.dump(vectorizer_phish, 'vectorizer_url.pkl')"
   ]
  },
  {
   "cell_type": "code",
   "execution_count": null,
   "id": "e02c0e14",
   "metadata": {},
   "outputs": [],
   "source": [
    "#This is a function that allow us to test the trained model right after training\n",
    "#without integrating it to any platform\n",
    "def predict_url(input_url):\n",
    "    tfidf_vector_phish = vectorizer_phish.transform([input_url])\n",
    "    prediction_phish = rf_classifier_phish.predict(tfidf_vector_phish)\n",
    "    return prediction_phish[0]\n",
    "\n",
    "# Getting user input and predicting\n",
    "input_url = input(\"Enter the URL: \")\n",
    "prediction_phish = predict_url(input_url)\n",
    "print(\"Prediction:\", prediction_phish)"
   ]
  },
  {
   "cell_type": "code",
   "execution_count": null,
   "id": "eb473864",
   "metadata": {},
   "outputs": [],
   "source": []
  }
 ],
 "metadata": {
  "kernelspec": {
   "display_name": "Python 3 (ipykernel)",
   "language": "python",
   "name": "python3"
  },
  "language_info": {
   "codemirror_mode": {
    "name": "ipython",
    "version": 3
   },
   "file_extension": ".py",
   "mimetype": "text/x-python",
   "name": "python",
   "nbconvert_exporter": "python",
   "pygments_lexer": "ipython3",
   "version": "3.11.5"
  }
 },
 "nbformat": 4,
 "nbformat_minor": 5
}
